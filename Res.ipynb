{
 "cells": [
  {
   "cell_type": "code",
   "execution_count": 33,
   "metadata": {},
   "outputs": [],
   "source": [
    "from numpy import mean\n",
    "from numpy import std\n",
    "import numpy as np\n",
    "from matplotlib import pyplot\n",
    "from sklearn.model_selection import KFold\n",
    "from keras.datasets import fashion_mnist\n",
    "from tensorflow.keras.utils import to_categorical\n",
    "from keras.models import Sequential\n",
    "from keras.layers import Conv2D,MaxPooling2D,Dense,Flatten,Dropout,BatchNormalization\n",
    "from tensorflow.keras.optimizers import SGD\n",
    "from sklearn.model_selection import train_test_split\n",
    "from sklearn.metrics import confusion_matrix, classification_report\n",
    "import itertools\n",
    "import pandas as pd\n",
    "from sklearn.utils import shuffle\n",
    "from tensorflow.keras.preprocessing.image import ImageDataGenerator\n",
    "from sklearn.preprocessing import LabelBinarizer\n",
    "from sklearn.metrics import classification_report\n",
    "import argparse\n",
    "import cv2\n",
    "def resize(df):\n",
    "\tdf=np.array(df,dtype='uint8')\n",
    "\tdf=[cv2.resize(image,(32,32)) for image in df]\n",
    "\tdf=np.array(df,dtype='float32')\n",
    "\tdf=df.reshape((df.shape[0],32,32,1))\n",
    "\treturn df\n",
    "\n",
    "def load_dataset():\n",
    "\tdf=pd.read_csv(r\"C:\\Users\\prane\\Desktop\\2021_2022_2\\ML\\Assignment 1\\CSV_datasetsix_vowel_dataset_with_class.csv\")\n",
    "\tdf=shuffle(df)\n",
    "\tpixels=[]\n",
    "\tfor i in range(784):\n",
    "\t\tpixels.append('pixel'+str(i))\n",
    "\tfeatures=pixels\n",
    "\tX=df.loc[:,features].values\n",
    "\ty=df.loc[:,'class'].values\n",
    "\tX_train,X_test, y_train, y_test = train_test_split(X,y,test_size=0.1,random_state=100)\n",
    "\ttrainX = X_train.reshape((X_train.shape[0], 28, 28, 1))\n",
    "\ttestX = X_test.reshape((X_test.shape[0], 28, 28, 1))\n",
    "\ttrainX=resize(trainX)\n",
    "\ttestX=resize(testX)\n",
    "\ty_train=y_train-1\n",
    "\ty_test=y_test-1\n",
    "\ttrainY = to_categorical(y_train)\n",
    "\ttestY = to_categorical(y_test)\n",
    "\ttrainX,validX,trainY,validY = train_test_split(trainX,trainY,test_size=0.1,random_state=100)\n",
    "\tvalidX=resize(validX)\n",
    "\treturn trainX, trainY, testX, testY, validX, validY"
   ]
  },
  {
   "cell_type": "code",
   "execution_count": 9,
   "metadata": {},
   "outputs": [],
   "source": [
    "EPOCHS = 50\n",
    "INIT_LR = 1e-1\n",
    "BS = 128"
   ]
  },
  {
   "cell_type": "code",
   "execution_count": 34,
   "metadata": {},
   "outputs": [],
   "source": [
    "def prep_pixels(train, test, val):\n",
    "\ttrain_norm = train / 255.0\n",
    "\ttest_norm = test / 255.0\n",
    "\tval_norm = val / 255.0\n",
    "\treturn train_norm, test_norm, val_norm\n",
    "\n",
    "class_labels = ['1','2','3','4','5','6']\n",
    "trainX, trainY, testX, testY, validX, validY = load_dataset()\n",
    "trainX, testX, validX = prep_pixels(trainX, testX, validX)"
   ]
  },
  {
   "cell_type": "code",
   "execution_count": 35,
   "metadata": {},
   "outputs": [],
   "source": [
    "aug = ImageDataGenerator(\n",
    "\trotation_range=10,\n",
    "\tzoom_range=0.05,\n",
    "\twidth_shift_range=0.1,\n",
    "\theight_shift_range=0.1,\n",
    "\tshear_range=0.15,\n",
    "\thorizontal_flip=False,\n",
    "\tfill_mode=\"nearest\")"
   ]
  },
  {
   "cell_type": "code",
   "execution_count": 36,
   "metadata": {},
   "outputs": [
    {
     "name": "stderr",
     "output_type": "stream",
     "text": [
      "C:\\Users\\prane\\anaconda3\\lib\\site-packages\\keras\\optimizer_v2\\gradient_descent.py:102: UserWarning: The `lr` argument is deprecated, use `learning_rate` instead.\n",
      "  super(SGD, self).__init__(name, **kwargs)\n"
     ]
    }
   ],
   "source": [
    "from Resnet import ResNet\n",
    "opt = SGD(lr=INIT_LR, decay=INIT_LR / EPOCHS)\n",
    "model = ResNet.build(32, 32, 1, 6, (3, 3, 3),\n",
    "\t(64, 64, 128, 256), reg=0.0005)\n",
    "model.compile(loss=\"categorical_crossentropy\", optimizer=opt,\n",
    "\tmetrics=[\"accuracy\"])"
   ]
  },
  {
   "cell_type": "code",
   "execution_count": 37,
   "metadata": {},
   "outputs": [
    {
     "name": "stdout",
     "output_type": "stream",
     "text": [
      "Epoch 1/50\n",
      "7/7 [==============================] - 14s 2s/step - loss: 1.9309 - accuracy: 0.2382 - val_loss: 2.0449 - val_accuracy: 0.1389\n",
      "Epoch 2/50\n",
      "7/7 [==============================] - 10s 1s/step - loss: 1.8083 - accuracy: 0.3780 - val_loss: 2.1787 - val_accuracy: 0.1389\n",
      "Epoch 3/50\n",
      "7/7 [==============================] - 9s 1s/step - loss: 1.6853 - accuracy: 0.4656 - val_loss: 2.3588 - val_accuracy: 0.1389\n",
      "Epoch 4/50\n",
      "7/7 [==============================] - 9s 1s/step - loss: 1.5167 - accuracy: 0.5912 - val_loss: 2.5281 - val_accuracy: 0.1389\n",
      "Epoch 5/50\n",
      "7/7 [==============================] - 9s 1s/step - loss: 1.3979 - accuracy: 0.6363 - val_loss: 2.3203 - val_accuracy: 0.1389\n",
      "Epoch 6/50\n",
      "7/7 [==============================] - 10s 1s/step - loss: 1.2896 - accuracy: 0.7076 - val_loss: 1.6337 - val_accuracy: 0.3519\n",
      "Epoch 7/50\n",
      "7/7 [==============================] - 12s 2s/step - loss: 1.1838 - accuracy: 0.7227 - val_loss: 1.4709 - val_accuracy: 0.4907\n",
      "Epoch 8/50\n",
      "7/7 [==============================] - 10s 1s/step - loss: 1.0934 - accuracy: 0.7773 - val_loss: 1.1196 - val_accuracy: 0.6667\n",
      "Epoch 9/50\n",
      "7/7 [==============================] - 8s 1s/step - loss: 0.9790 - accuracy: 0.8223 - val_loss: 1.1093 - val_accuracy: 0.6111\n",
      "Epoch 10/50\n",
      "7/7 [==============================] - 8s 1s/step - loss: 0.9035 - accuracy: 0.8578 - val_loss: 1.4139 - val_accuracy: 0.5463\n",
      "Epoch 11/50\n",
      "7/7 [==============================] - 8s 1s/step - loss: 0.8075 - accuracy: 0.8839 - val_loss: 1.1205 - val_accuracy: 0.5833\n",
      "Epoch 12/50\n",
      "7/7 [==============================] - 8s 1s/step - loss: 0.7448 - accuracy: 0.8934 - val_loss: 0.8563 - val_accuracy: 0.8056\n",
      "Epoch 13/50\n",
      "7/7 [==============================] - 8s 1s/step - loss: 0.6866 - accuracy: 0.9194 - val_loss: 0.7959 - val_accuracy: 0.8333\n",
      "Epoch 14/50\n",
      "7/7 [==============================] - 9s 1s/step - loss: 0.6468 - accuracy: 0.9206 - val_loss: 0.7517 - val_accuracy: 0.7593\n",
      "Epoch 15/50\n",
      "7/7 [==============================] - 10s 1s/step - loss: 0.6488 - accuracy: 0.9005 - val_loss: 0.7691 - val_accuracy: 0.7963\n",
      "Epoch 16/50\n",
      "7/7 [==============================] - 9s 1s/step - loss: 0.5634 - accuracy: 0.9265 - val_loss: 0.8701 - val_accuracy: 0.7593\n",
      "Epoch 17/50\n",
      "7/7 [==============================] - 8s 1s/step - loss: 0.4998 - accuracy: 0.9491 - val_loss: 0.4946 - val_accuracy: 0.9352\n",
      "Epoch 18/50\n",
      "7/7 [==============================] - 8s 1s/step - loss: 0.4637 - accuracy: 0.9526 - val_loss: 0.8323 - val_accuracy: 0.7685\n",
      "Epoch 19/50\n",
      "7/7 [==============================] - 8s 1s/step - loss: 0.4313 - accuracy: 0.9621 - val_loss: 1.0847 - val_accuracy: 0.6111\n",
      "Epoch 20/50\n",
      "7/7 [==============================] - 8s 1s/step - loss: 0.4076 - accuracy: 0.9585 - val_loss: 0.5255 - val_accuracy: 0.9259\n",
      "Epoch 21/50\n",
      "7/7 [==============================] - 8s 1s/step - loss: 0.3710 - accuracy: 0.9775 - val_loss: 0.8458 - val_accuracy: 0.7130\n",
      "Epoch 22/50\n",
      "7/7 [==============================] - 8s 1s/step - loss: 0.3650 - accuracy: 0.9739 - val_loss: 0.4421 - val_accuracy: 0.9259\n",
      "Epoch 23/50\n",
      "7/7 [==============================] - 8s 1s/step - loss: 0.3368 - accuracy: 0.9787 - val_loss: 0.3727 - val_accuracy: 0.9815\n",
      "Epoch 24/50\n",
      "7/7 [==============================] - 8s 1s/step - loss: 0.3140 - accuracy: 0.9870 - val_loss: 0.3182 - val_accuracy: 0.9815\n",
      "Epoch 25/50\n",
      "7/7 [==============================] - 9s 1s/step - loss: 0.3012 - accuracy: 0.9870 - val_loss: 0.3573 - val_accuracy: 0.9537\n",
      "Epoch 26/50\n",
      "7/7 [==============================] - 10s 1s/step - loss: 0.2982 - accuracy: 0.9855 - val_loss: 0.6121 - val_accuracy: 0.8519\n",
      "Epoch 27/50\n",
      "7/7 [==============================] - 9s 1s/step - loss: 0.2703 - accuracy: 0.9941 - val_loss: 0.2807 - val_accuracy: 0.9815\n",
      "Epoch 28/50\n",
      "7/7 [==============================] - 9s 1s/step - loss: 0.2718 - accuracy: 0.9893 - val_loss: 0.3724 - val_accuracy: 0.9630\n",
      "Epoch 29/50\n",
      "7/7 [==============================] - 9s 1s/step - loss: 0.2544 - accuracy: 0.9964 - val_loss: 0.6292 - val_accuracy: 0.8704\n",
      "Epoch 30/50\n",
      "7/7 [==============================] - 9s 1s/step - loss: 0.2498 - accuracy: 0.9964 - val_loss: 0.2863 - val_accuracy: 0.9907\n",
      "Epoch 31/50\n",
      "7/7 [==============================] - 9s 1s/step - loss: 0.2539 - accuracy: 0.9953 - val_loss: 0.2702 - val_accuracy: 0.9907\n",
      "Epoch 32/50\n",
      "7/7 [==============================] - 9s 1s/step - loss: 0.2423 - accuracy: 0.9976 - val_loss: 0.2883 - val_accuracy: 0.9815\n",
      "Epoch 33/50\n",
      "7/7 [==============================] - 10s 1s/step - loss: 0.2397 - accuracy: 0.9922 - val_loss: 0.2741 - val_accuracy: 0.9907\n",
      "Epoch 34/50\n",
      "7/7 [==============================] - 9s 1s/step - loss: 0.2406 - accuracy: 0.9941 - val_loss: 0.2737 - val_accuracy: 0.9815\n",
      "Epoch 35/50\n",
      "7/7 [==============================] - 9s 1s/step - loss: 0.2281 - accuracy: 0.9976 - val_loss: 0.2867 - val_accuracy: 0.9907\n",
      "Epoch 36/50\n",
      "7/7 [==============================] - 9s 1s/step - loss: 0.2264 - accuracy: 0.9976 - val_loss: 0.2610 - val_accuracy: 0.9907\n",
      "Epoch 37/50\n",
      "7/7 [==============================] - 9s 1s/step - loss: 0.2242 - accuracy: 0.9988 - val_loss: 0.3114 - val_accuracy: 0.9537\n",
      "Epoch 38/50\n",
      "7/7 [==============================] - 9s 1s/step - loss: 0.2273 - accuracy: 0.9967 - val_loss: 0.3687 - val_accuracy: 0.9630\n",
      "Epoch 39/50\n",
      "7/7 [==============================] - 9s 1s/step - loss: 0.2210 - accuracy: 1.0000 - val_loss: 0.2521 - val_accuracy: 0.9815\n",
      "Epoch 40/50\n",
      "7/7 [==============================] - 9s 1s/step - loss: 0.2227 - accuracy: 0.9976 - val_loss: 0.3057 - val_accuracy: 0.9722\n",
      "Epoch 41/50\n",
      "7/7 [==============================] - 9s 1s/step - loss: 0.2203 - accuracy: 0.9964 - val_loss: 0.3000 - val_accuracy: 0.9630\n",
      "Epoch 42/50\n",
      "7/7 [==============================] - 9s 1s/step - loss: 0.2204 - accuracy: 0.9964 - val_loss: 0.2399 - val_accuracy: 0.9907\n",
      "Epoch 43/50\n",
      "7/7 [==============================] - 9s 1s/step - loss: 0.2117 - accuracy: 0.9988 - val_loss: 0.3115 - val_accuracy: 0.9815\n",
      "Epoch 44/50\n",
      "7/7 [==============================] - 9s 1s/step - loss: 0.2124 - accuracy: 1.0000 - val_loss: 0.2259 - val_accuracy: 1.0000\n",
      "Epoch 45/50\n",
      "7/7 [==============================] - 9s 1s/step - loss: 0.2098 - accuracy: 0.9989 - val_loss: 0.2318 - val_accuracy: 1.0000\n",
      "Epoch 46/50\n",
      "7/7 [==============================] - 9s 1s/step - loss: 0.2115 - accuracy: 0.9978 - val_loss: 0.2192 - val_accuracy: 1.0000\n",
      "Epoch 47/50\n",
      "7/7 [==============================] - 9s 1s/step - loss: 0.2084 - accuracy: 0.9988 - val_loss: 0.2442 - val_accuracy: 0.9907\n",
      "Epoch 48/50\n",
      "7/7 [==============================] - 9s 1s/step - loss: 0.2068 - accuracy: 1.0000 - val_loss: 0.2513 - val_accuracy: 0.9815\n",
      "Epoch 49/50\n",
      "7/7 [==============================] - 9s 1s/step - loss: 0.2097 - accuracy: 0.9964 - val_loss: 0.2375 - val_accuracy: 1.0000\n",
      "Epoch 50/50\n",
      "7/7 [==============================] - 9s 1s/step - loss: 0.2057 - accuracy: 1.0000 - val_loss: 0.2414 - val_accuracy: 1.0000\n"
     ]
    }
   ],
   "source": [
    "classWeight={}\n",
    "H = model.fit(\n",
    "\taug.flow(trainX, trainY, batch_size=BS),\n",
    "\tvalidation_data=(validX, validY),\n",
    "\tsteps_per_epoch=len(trainX) // BS,\n",
    "\tepochs=EPOCHS,\n",
    "\tclass_weight=classWeight,\n",
    "\tverbose=1)"
   ]
  },
  {
   "cell_type": "code",
   "execution_count": 38,
   "metadata": {},
   "outputs": [
    {
     "name": "stdout",
     "output_type": "stream",
     "text": [
      "Test Accuracy: 99.16666746139526 %\n"
     ]
    }
   ],
   "source": [
    "_, acc = model.evaluate(testX, testY, verbose=0)\n",
    "y_pred = model.predict(testX)\n",
    "print('Test Accuracy:', (acc * 100), '%')"
   ]
  },
  {
   "cell_type": "code",
   "execution_count": 39,
   "metadata": {},
   "outputs": [],
   "source": [
    "def plot_metrics(history):\n",
    "\t\tpyplot.subplot(211)\n",
    "\t\tpyplot.title('Cross Entropy Loss')\n",
    "\t\tpyplot.plot(history.history['loss'], color='blue', label='train')\n",
    "\t\tpyplot.plot(history.history['val_loss'], color='red', label='validation')\n",
    "\t\t# plot accuracy\n",
    "\t\tpyplot.subplot(212)\n",
    "\t\tpyplot.title('Classification Accuracy')\n",
    "\t\tpyplot.plot(history.history['accuracy'], color='blue', label='train')\n",
    "\t\tpyplot.plot(history.history['val_accuracy'], color='red', label='validation')\n",
    "\t\tpyplot.tight_layout()\n",
    "\t\tpyplot.legend()\n",
    "\t\tpyplot.show()\n",
    "\t\n",
    "def plot_confusion_matrix(cm, classes, normalize=False, title='Confusion matrix', cmap=pyplot.cm.Blues):\n",
    "\t\tpyplot.figure(figsize = (10,7))\n",
    "\t\tpyplot.imshow(cm, interpolation='nearest', cmap=cmap)\n",
    "\t\tpyplot.title(title)\n",
    "\t\tpyplot.colorbar()\n",
    "\t\ttick_marks = np.arange(len(classes))\n",
    "\t\tpyplot.xticks(tick_marks, classes, rotation=90)\n",
    "\t\tpyplot.yticks(tick_marks, classes)\n",
    "\t\tif normalize:\n",
    "\t\t\tcm = cm.astype('float') / cm.sum(axis=1)[:, np.newaxis]\n",
    "\t\tthresh = cm.max() / 2.\n",
    "\t\tfor i, j in itertools.product(range(cm.shape[0]), range(cm.shape[1])):\n",
    "\t\t\tpyplot.text(j, i, cm[i, j],\n",
    "                 horizontalalignment=\"center\",\n",
    "                 color=\"white\" if cm[i, j] > thresh else \"black\")\n",
    "\t\tpyplot.tight_layout()\n",
    "\t\tpyplot.ylabel('True label')\n",
    "\t\tpyplot.xlabel('Predicted label')"
   ]
  },
  {
   "cell_type": "code",
   "execution_count": 41,
   "metadata": {},
   "outputs": [
    {
     "data": {
      "image/png": "[encoded data removed]",
      "text/plain": [
       "<Figure size 432x288 with 2 Axes>"
      ]
     },
     "metadata": {
      "needs_background": "light"
     },
     "output_type": "display_data"
    }
   ],
   "source": [
    "y_pred_classes = np.argmax(y_pred,axis = 1)\n",
    "testY_classes = np.argmax(testY,axis = 1) \n",
    "confmat = confusion_matrix(testY_classes, y_pred_classes)\n",
    "plot_metrics(H)"
   ]
  },
  {
   "cell_type": "code",
   "execution_count": 42,
   "metadata": {},
   "outputs": [
    {
     "data": {
      "image/png": "[encoded data removed]",
      "text/plain": [
       "<Figure size 720x504 with 2 Axes>"
      ]
     },
     "metadata": {
      "needs_background": "light"
     },
     "output_type": "display_data"
    }
   ],
   "source": [
    "plot_confusion_matrix(confmat, classes = class_labels)"
   ]
  }
 ],
 "metadata": {
  "interpreter": {
   "hash": "6ae121be47c97c0c069510300ddf1208e01f00c5474901e36bb5238e92bd8a36"
  },
  "kernelspec": {
   "display_name": "Python 3.9.7 ('base')",
   "language": "python",
   "name": "python3"
  },
  "language_info": {
   "codemirror_mode": {
    "name": "ipython",
    "version": 3
   },
   "file_extension": ".py",
   "mimetype": "text/x-python",
   "name": "python",
   "nbconvert_exporter": "python",
   "pygments_lexer": "ipython3",
   "version": "3.9.7"
  },
  "orig_nbformat": 4
 },
 "nbformat": 4,
 "nbformat_minor": 2
}
